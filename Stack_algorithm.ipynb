{
 "cells": [
  {
   "cell_type": "markdown",
   "id": "4ac5762d",
   "metadata": {},
   "source": [
    "## Let's take a look at the normal stack algorithm"
   ]
  },
  {
   "cell_type": "code",
   "execution_count": 69,
   "id": "6fa8af7c",
   "metadata": {},
   "outputs": [],
   "source": [
    "class NormalStack:\n",
    "    def __init__(self):\n",
    "        self.stack = []\n",
    "        \n",
    "    \n",
    "    def push(self, num):\n",
    "        self.stack.append(num)\n",
    "        return self.stack\n",
    "        \n",
    "        \n",
    "    def pop(self):\n",
    "        self.stack.pop()\n",
    "        return self.stack\n",
    "        \n",
    "    def size(self):\n",
    "        return len(self.stack)\n",
    "    \n",
    "    \n",
    "    def is_empty(self):\n",
    "        return not self.stack\n",
    "    \n",
    "    \n",
    "    def peek(self):\n",
    "        return self.stack[-1]"
   ]
  },
  {
   "cell_type": "code",
   "execution_count": 4,
   "id": "eababc54",
   "metadata": {},
   "outputs": [],
   "source": [
    "list_ = [1, 2, 5, 3, 4]"
   ]
  },
  {
   "cell_type": "code",
   "execution_count": 70,
   "id": "5ae9ad28",
   "metadata": {},
   "outputs": [
    {
     "data": {
      "text/plain": [
       "[1, 3, 5, 2]"
      ]
     },
     "execution_count": 70,
     "metadata": {},
     "output_type": "execute_result"
    }
   ],
   "source": [
    "n_stack = NormalStack()\n",
    "n_stack.push(1)\n",
    "n_stack.push(3)\n",
    "n_stack.push(5)\n",
    "n_stack.push(2)"
   ]
  },
  {
   "cell_type": "code",
   "execution_count": 71,
   "id": "8e0a4de9",
   "metadata": {},
   "outputs": [
    {
     "data": {
      "text/plain": [
       "[1, 3, 5]"
      ]
     },
     "execution_count": 71,
     "metadata": {},
     "output_type": "execute_result"
    }
   ],
   "source": [
    "n_stack.pop()"
   ]
  },
  {
   "cell_type": "code",
   "execution_count": 72,
   "id": "706b5643",
   "metadata": {},
   "outputs": [
    {
     "data": {
      "text/plain": [
       "3"
      ]
     },
     "execution_count": 72,
     "metadata": {},
     "output_type": "execute_result"
    }
   ],
   "source": [
    "n_stack.size()"
   ]
  },
  {
   "cell_type": "code",
   "execution_count": 73,
   "id": "1f5ea6a2",
   "metadata": {},
   "outputs": [
    {
     "data": {
      "text/plain": [
       "False"
      ]
     },
     "execution_count": 73,
     "metadata": {},
     "output_type": "execute_result"
    }
   ],
   "source": [
    "n_stack.is_empty()"
   ]
  },
  {
   "cell_type": "code",
   "execution_count": 74,
   "id": "e9eea479",
   "metadata": {},
   "outputs": [
    {
     "data": {
      "text/plain": [
       "5"
      ]
     },
     "execution_count": 74,
     "metadata": {},
     "output_type": "execute_result"
    }
   ],
   "source": [
    "n_stack.peek()"
   ]
  },
  {
   "cell_type": "code",
   "execution_count": 75,
   "id": "38800bc5",
   "metadata": {},
   "outputs": [
    {
     "data": {
      "text/plain": [
       "[1, 3, 5]"
      ]
     },
     "execution_count": 75,
     "metadata": {},
     "output_type": "execute_result"
    }
   ],
   "source": [
    "n_stack.stack"
   ]
  },
  {
   "cell_type": "markdown",
   "id": "44d767d2",
   "metadata": {},
   "source": [
    "## can we create a stack data type with a linked list?"
   ]
  },
  {
   "cell_type": "code",
   "execution_count": 20,
   "id": "6e06d2f9",
   "metadata": {},
   "outputs": [],
   "source": [
    "class Node:\n",
    "    def __init__(self, data):\n",
    "        self.data = data\n",
    "        self.next = None"
   ]
  },
  {
   "cell_type": "code",
   "execution_count": 26,
   "id": "96b2b67a",
   "metadata": {},
   "outputs": [],
   "source": [
    "class LLStack:\n",
    "    def __init__(self, head=None):\n",
    "        self.head = None\n",
    "        \n",
    "        \n",
    "    def push(self, data):\n",
    "        new_node = Node(data)\n",
    "        if not self.head:\n",
    "            self.head = new_node\n",
    "            return self.head.data\n",
    "        else:\n",
    "            new_node.next = self.head\n",
    "            self.head = new_node\n",
    "            return self.head.data\n",
    "            \n",
    "    def pop(self):\n",
    "        if not self.head:\n",
    "            raise IndexError('pop from empty')\n",
    "        else:\n",
    "            poppednode = self.head\n",
    "            self.head = self.head.next\n",
    "            return poppednode.data"
   ]
  },
  {
   "cell_type": "code",
   "execution_count": 27,
   "id": "11d55eeb",
   "metadata": {},
   "outputs": [
    {
     "data": {
      "text/plain": [
       "2"
      ]
     },
     "execution_count": 27,
     "metadata": {},
     "output_type": "execute_result"
    }
   ],
   "source": [
    "ll_stack = LLStack()\n",
    "ll_stack.push(1)\n",
    "ll_stack.push(3)\n",
    "ll_stack.push(5)\n",
    "ll_stack.push(2)"
   ]
  },
  {
   "cell_type": "code",
   "execution_count": 28,
   "id": "059d63b1",
   "metadata": {},
   "outputs": [
    {
     "data": {
      "text/plain": [
       "2"
      ]
     },
     "execution_count": 28,
     "metadata": {},
     "output_type": "execute_result"
    }
   ],
   "source": [
    "ll_stack.pop()"
   ]
  },
  {
   "cell_type": "code",
   "execution_count": 29,
   "id": "3a4e1695",
   "metadata": {},
   "outputs": [
    {
     "data": {
      "text/plain": [
       "5"
      ]
     },
     "execution_count": 29,
     "metadata": {},
     "output_type": "execute_result"
    }
   ],
   "source": [
    "ll_stack.pop()"
   ]
  },
  {
   "cell_type": "markdown",
   "id": "19153fbf",
   "metadata": {},
   "source": [
    "## Adding a Method to Show the Minimum Value in a Stack"
   ]
  },
  {
   "cell_type": "code",
   "execution_count": 38,
   "id": "4f5a482c",
   "metadata": {},
   "outputs": [],
   "source": [
    "class MinStack:\n",
    "    def __init__(self):\n",
    "        self.main = []\n",
    "        self.min = []\n",
    "        \n",
    "        \n",
    "    def push(self, num):\n",
    "        self.main.append(num)\n",
    "        \n",
    "        if not len(self.min):\n",
    "            self.min.append(num)\n",
    "        elif num <= self.min[-1]:\n",
    "            self.min.append(num)\n",
    "        else:\n",
    "            self.min.append(self.min[-1])\n",
    "    \n",
    "    \n",
    "    def pop(self):\n",
    "        self.min.pop()\n",
    "        return self.main.pop()\n",
    "    \n",
    "    def get_min(self):\n",
    "        return self.min[-1]"
   ]
  },
  {
   "cell_type": "code",
   "execution_count": 42,
   "id": "f507c364",
   "metadata": {},
   "outputs": [],
   "source": [
    "Min_stack = MinStack()\n",
    "Min_stack.push(6)\n",
    "Min_stack.push(3)\n",
    "Min_stack.push(5)\n",
    "Min_stack.push(2)\n",
    "Min_stack.push(6)"
   ]
  },
  {
   "cell_type": "code",
   "execution_count": 43,
   "id": "13efc28d",
   "metadata": {},
   "outputs": [
    {
     "data": {
      "text/plain": [
       "2"
      ]
     },
     "execution_count": 43,
     "metadata": {},
     "output_type": "execute_result"
    }
   ],
   "source": [
    "Min_stack.get_min()"
   ]
  },
  {
   "cell_type": "code",
   "execution_count": 44,
   "id": "c9a82c22",
   "metadata": {},
   "outputs": [
    {
     "data": {
      "text/plain": [
       "6"
      ]
     },
     "execution_count": 44,
     "metadata": {},
     "output_type": "execute_result"
    }
   ],
   "source": [
    "Min_stack.pop()"
   ]
  },
  {
   "cell_type": "code",
   "execution_count": 45,
   "id": "fec771da",
   "metadata": {},
   "outputs": [
    {
     "data": {
      "text/plain": [
       "2"
      ]
     },
     "execution_count": 45,
     "metadata": {},
     "output_type": "execute_result"
    }
   ],
   "source": [
    "Min_stack.pop()"
   ]
  },
  {
   "cell_type": "code",
   "execution_count": 46,
   "id": "656a1276",
   "metadata": {},
   "outputs": [
    {
     "data": {
      "text/plain": [
       "3"
      ]
     },
     "execution_count": 46,
     "metadata": {},
     "output_type": "execute_result"
    }
   ],
   "source": [
    "Min_stack.get_min()"
   ]
  },
  {
   "cell_type": "code",
   "execution_count": 47,
   "id": "2130cf23",
   "metadata": {},
   "outputs": [
    {
     "data": {
      "text/plain": [
       "[6, 3, 5]"
      ]
     },
     "execution_count": 47,
     "metadata": {},
     "output_type": "execute_result"
    }
   ],
   "source": [
    "Min_stack.main"
   ]
  },
  {
   "cell_type": "code",
   "execution_count": 48,
   "id": "eef07a2b",
   "metadata": {},
   "outputs": [
    {
     "data": {
      "text/plain": [
       "[6, 3, 3]"
      ]
     },
     "execution_count": 48,
     "metadata": {},
     "output_type": "execute_result"
    }
   ],
   "source": [
    "Min_stack.min"
   ]
  },
  {
   "cell_type": "markdown",
   "id": "0d2c486e",
   "metadata": {},
   "source": [
    "### How can we find the maximum value?"
   ]
  },
  {
   "cell_type": "code",
   "execution_count": 49,
   "id": "652f2c1c",
   "metadata": {},
   "outputs": [],
   "source": [
    "class MaxStack(MinStack):\n",
    "    def __init__(self):\n",
    "        super().__init__()\n",
    "        self.max = []\n",
    "        \n",
    "        \n",
    "    def push(self, num):\n",
    "        self.main.append(num)\n",
    "        \n",
    "        if not len(self.min):\n",
    "            self.min.append(num)\n",
    "        elif num <= self.min[-1]:\n",
    "            self.min.append(num)\n",
    "        else:\n",
    "            self.min.append(self.min[-1])\n",
    "            \n",
    "        if not len(self.max):\n",
    "            self.max.append(num)\n",
    "        elif num >= self.max[-1]:\n",
    "            self.max.append(num)\n",
    "        else:\n",
    "            self.max.append(self.max[-1])\n",
    "    \n",
    "    \n",
    "    def pop(self):\n",
    "        self.min.pop()\n",
    "        self.max.pop()\n",
    "        return self.main.pop()\n",
    "    \n",
    "    def get_max(self):\n",
    "        return self.max[-1]"
   ]
  },
  {
   "cell_type": "code",
   "execution_count": 54,
   "id": "7b440aa0",
   "metadata": {},
   "outputs": [],
   "source": [
    "Max_stack = MaxStack()\n",
    "Max_stack.push(2)\n",
    "Max_stack.push(3)\n",
    "Max_stack.push(5)\n",
    "Max_stack.push(4)\n",
    "Max_stack.push(6)\n",
    "Max_stack.push(1)"
   ]
  },
  {
   "cell_type": "code",
   "execution_count": 55,
   "id": "b9e77865",
   "metadata": {},
   "outputs": [
    {
     "data": {
      "text/plain": [
       "[2, 3, 5, 5, 6, 6]"
      ]
     },
     "execution_count": 55,
     "metadata": {},
     "output_type": "execute_result"
    }
   ],
   "source": [
    "Max_stack.max"
   ]
  },
  {
   "cell_type": "code",
   "execution_count": 56,
   "id": "59a16224",
   "metadata": {},
   "outputs": [
    {
     "data": {
      "text/plain": [
       "[2, 3, 5, 4, 6, 1]"
      ]
     },
     "execution_count": 56,
     "metadata": {},
     "output_type": "execute_result"
    }
   ],
   "source": [
    "Max_stack.main"
   ]
  },
  {
   "cell_type": "code",
   "execution_count": 58,
   "id": "56d58af9",
   "metadata": {},
   "outputs": [
    {
     "data": {
      "text/plain": [
       "6"
      ]
     },
     "execution_count": 58,
     "metadata": {},
     "output_type": "execute_result"
    }
   ],
   "source": [
    "Max_stack.get_max()"
   ]
  },
  {
   "cell_type": "code",
   "execution_count": 59,
   "id": "20609458",
   "metadata": {},
   "outputs": [
    {
     "data": {
      "text/plain": [
       "6"
      ]
     },
     "execution_count": 59,
     "metadata": {},
     "output_type": "execute_result"
    }
   ],
   "source": [
    "Max_stack.pop()\n",
    "Max_stack.pop()"
   ]
  },
  {
   "cell_type": "code",
   "execution_count": 60,
   "id": "82ade926",
   "metadata": {},
   "outputs": [
    {
     "data": {
      "text/plain": [
       "5"
      ]
     },
     "execution_count": 60,
     "metadata": {},
     "output_type": "execute_result"
    }
   ],
   "source": [
    "Max_stack.get_max()"
   ]
  },
  {
   "cell_type": "markdown",
   "id": "8b6fdc72",
   "metadata": {},
   "source": [
    "## Let's create a detection algorithm to check whether parentheses properly work"
   ]
  },
  {
   "cell_type": "code",
   "execution_count": 65,
   "id": "28862571",
   "metadata": {},
   "outputs": [],
   "source": [
    "def check_parentheses(string):\n",
    "    stack = []\n",
    "    \n",
    "    for letter in string:\n",
    "        if letter == '(':\n",
    "            stack.append(letter)\n",
    "        if letter == ')':\n",
    "            if not len(stack):\n",
    "                return False\n",
    "            else:\n",
    "                stack.pop()\n",
    "                \n",
    "    return len(stack) == 0"
   ]
  },
  {
   "cell_type": "code",
   "execution_count": 66,
   "id": "fab8be98",
   "metadata": {},
   "outputs": [
    {
     "data": {
      "text/plain": [
       "True"
      ]
     },
     "execution_count": 66,
     "metadata": {},
     "output_type": "execute_result"
    }
   ],
   "source": [
    "check_parentheses('((abc)d)')"
   ]
  },
  {
   "cell_type": "code",
   "execution_count": 67,
   "id": "e46a09ad",
   "metadata": {},
   "outputs": [
    {
     "data": {
      "text/plain": [
       "False"
      ]
     },
     "execution_count": 67,
     "metadata": {},
     "output_type": "execute_result"
    }
   ],
   "source": [
    "check_parentheses(')(abc)(')"
   ]
  }
 ],
 "metadata": {
  "kernelspec": {
   "display_name": "Python 3 (ipykernel)",
   "language": "python",
   "name": "python3"
  },
  "language_info": {
   "codemirror_mode": {
    "name": "ipython",
    "version": 3
   },
   "file_extension": ".py",
   "mimetype": "text/x-python",
   "name": "python",
   "nbconvert_exporter": "python",
   "pygments_lexer": "ipython3",
   "version": "3.11.3"
  }
 },
 "nbformat": 4,
 "nbformat_minor": 5
}
