{
 "cells": [
  {
   "cell_type": "markdown",
   "id": "4808e06a",
   "metadata": {},
   "source": [
    "## implement a queue data structure with a linked list"
   ]
  },
  {
   "cell_type": "code",
   "execution_count": 1,
   "id": "06c03ce4",
   "metadata": {},
   "outputs": [],
   "source": [
    "class Node:\n",
    "    def __init__(self, data):\n",
    "        self.data = data\n",
    "        self.next = None"
   ]
  },
  {
   "cell_type": "code",
   "execution_count": 4,
   "id": "8de1ae5d",
   "metadata": {},
   "outputs": [],
   "source": [
    "class Queue:\n",
    "    def __init__(self):\n",
    "        self.front = None\n",
    "        self.rear = None\n",
    "        self._size = 0\n",
    "        \n",
    "    def enqueue(self, item):\n",
    "        self._size += 1\n",
    "        node = Node(item)\n",
    "        if self.rear is None:\n",
    "            self.front = node\n",
    "            self.rear = node\n",
    "        else:\n",
    "            self.rear.next = node\n",
    "            self.rear = node\n",
    "            \n",
    "            \n",
    "    def dequeue(self):\n",
    "        if self.front is None:\n",
    "            raise IndexError('queue is empty')\n",
    "        else:\n",
    "            self._size -= 1\n",
    "            temp = self.front\n",
    "            self.front = self.front.next\n",
    "            if self.front is None:\n",
    "                self.rear = None\n",
    "            return temp.data\n",
    "        \n",
    "        \n",
    "    def size(self):\n",
    "        return self._size"
   ]
  },
  {
   "cell_type": "markdown",
   "id": "2ec924af",
   "metadata": {},
   "source": [
    "### Check if this code works properly"
   ]
  },
  {
   "cell_type": "code",
   "execution_count": 5,
   "id": "3d85cfae",
   "metadata": {},
   "outputs": [],
   "source": [
    "queue = Queue()"
   ]
  },
  {
   "cell_type": "code",
   "execution_count": 6,
   "id": "d2595243",
   "metadata": {},
   "outputs": [],
   "source": [
    "queue.enqueue(1)\n",
    "queue.enqueue(2)\n",
    "queue.enqueue(3)\n",
    "queue.enqueue(4)\n",
    "queue.enqueue(5)"
   ]
  },
  {
   "cell_type": "code",
   "execution_count": 7,
   "id": "d980f30f",
   "metadata": {},
   "outputs": [
    {
     "data": {
      "text/plain": [
       "5"
      ]
     },
     "execution_count": 7,
     "metadata": {},
     "output_type": "execute_result"
    }
   ],
   "source": [
    "queue.size()"
   ]
  },
  {
   "cell_type": "code",
   "execution_count": 8,
   "id": "77828ded",
   "metadata": {},
   "outputs": [
    {
     "data": {
      "text/plain": [
       "1"
      ]
     },
     "execution_count": 8,
     "metadata": {},
     "output_type": "execute_result"
    }
   ],
   "source": [
    "queue.dequeue()"
   ]
  },
  {
   "cell_type": "code",
   "execution_count": 9,
   "id": "40f10b60",
   "metadata": {},
   "outputs": [
    {
     "data": {
      "text/plain": [
       "2"
      ]
     },
     "execution_count": 9,
     "metadata": {},
     "output_type": "execute_result"
    }
   ],
   "source": [
    "queue.dequeue()"
   ]
  },
  {
   "cell_type": "code",
   "execution_count": 10,
   "id": "baf70c52",
   "metadata": {},
   "outputs": [
    {
     "data": {
      "text/plain": [
       "3"
      ]
     },
     "execution_count": 10,
     "metadata": {},
     "output_type": "execute_result"
    }
   ],
   "source": [
    "queue.size()"
   ]
  },
  {
   "cell_type": "markdown",
   "id": "24c6fe2b",
   "metadata": {},
   "source": [
    "## Can we create a queue data structure with a stack data structure?"
   ]
  },
  {
   "cell_type": "code",
   "execution_count": 14,
   "id": "23a9bed3",
   "metadata": {},
   "outputs": [],
   "source": [
    "class QueueWithStack:\n",
    "    def __init__(self):\n",
    "        self.s1 = []\n",
    "        self.s2 = []\n",
    "        \n",
    "        \n",
    "    def enqueue(self, item):\n",
    "        while self.s1:\n",
    "            self.s2.append(self.s1.pop())\n",
    "        self.s1.append(item)\n",
    "        while self.s2:\n",
    "            self.s1.append(self.s2.pop())\n",
    "            \n",
    "            \n",
    "    def dequeue(self):\n",
    "        return self.s1.pop()\n",
    "    \n",
    "    \n",
    "    def size(self):\n",
    "        return len(self.s1)"
   ]
  },
  {
   "cell_type": "markdown",
   "id": "5ab05a93",
   "metadata": {},
   "source": [
    "### Check if this code works properly"
   ]
  },
  {
   "cell_type": "code",
   "execution_count": 19,
   "id": "3541c336",
   "metadata": {},
   "outputs": [],
   "source": [
    "queue_stack = QueueWithStack()"
   ]
  },
  {
   "cell_type": "code",
   "execution_count": 20,
   "id": "9197bf6e",
   "metadata": {},
   "outputs": [],
   "source": [
    "queue_stack.enqueue(1)\n",
    "queue_stack.enqueue(2)\n",
    "queue_stack.enqueue(3)\n",
    "queue_stack.enqueue(4)\n",
    "queue_stack.enqueue(5)\n",
    "queue_stack.enqueue(6)"
   ]
  },
  {
   "cell_type": "code",
   "execution_count": 21,
   "id": "c6179fa7",
   "metadata": {},
   "outputs": [
    {
     "data": {
      "text/plain": [
       "[6, 5, 4, 3, 2, 1]"
      ]
     },
     "execution_count": 21,
     "metadata": {},
     "output_type": "execute_result"
    }
   ],
   "source": [
    "queue_stack.s1"
   ]
  },
  {
   "cell_type": "code",
   "execution_count": 22,
   "id": "a86d4fd4",
   "metadata": {},
   "outputs": [
    {
     "data": {
      "text/plain": [
       "1"
      ]
     },
     "execution_count": 22,
     "metadata": {},
     "output_type": "execute_result"
    }
   ],
   "source": [
    "queue_stack.dequeue()"
   ]
  },
  {
   "cell_type": "code",
   "execution_count": 23,
   "id": "98416cc0",
   "metadata": {},
   "outputs": [
    {
     "data": {
      "text/plain": [
       "2"
      ]
     },
     "execution_count": 23,
     "metadata": {},
     "output_type": "execute_result"
    }
   ],
   "source": [
    "queue_stack.dequeue()"
   ]
  },
  {
   "cell_type": "code",
   "execution_count": 24,
   "id": "70ac08ff",
   "metadata": {},
   "outputs": [
    {
     "data": {
      "text/plain": [
       "4"
      ]
     },
     "execution_count": 24,
     "metadata": {},
     "output_type": "execute_result"
    }
   ],
   "source": [
    "queue_stack.size()"
   ]
  },
  {
   "cell_type": "code",
   "execution_count": 25,
   "id": "0a55a37d",
   "metadata": {},
   "outputs": [
    {
     "data": {
      "text/plain": [
       "[6, 5, 4, 3]"
      ]
     },
     "execution_count": 25,
     "metadata": {},
     "output_type": "execute_result"
    }
   ],
   "source": [
    "queue_stack.s1"
   ]
  },
  {
   "cell_type": "markdown",
   "id": "c770acfa",
   "metadata": {},
   "source": [
    "### Let's implement an enqueue function with O(1)"
   ]
  },
  {
   "cell_type": "code",
   "execution_count": 55,
   "id": "a59ae94c",
   "metadata": {},
   "outputs": [],
   "source": [
    "class QueueWithStackEn:\n",
    "    def __init__(self):\n",
    "        self._in = []\n",
    "        self._out = []\n",
    "        \n",
    "        \n",
    "    def enqueue(self, item):\n",
    "        self._in.append(item)\n",
    "            \n",
    "            \n",
    "    def dequeue(self):\n",
    "        if not self._in and not self._out:\n",
    "            raise IndexError('queue is empty')\n",
    "        else:\n",
    "            if not self._out:\n",
    "                while self._in:\n",
    "                    self._out.append(self._in.pop())\n",
    "            return self._out.pop()\n",
    "    \n",
    "    \n",
    "    def size(self):\n",
    "        return len(self._in) + len(self._out)"
   ]
  },
  {
   "cell_type": "markdown",
   "id": "21ca83ad",
   "metadata": {},
   "source": [
    "### Check if this code works properly"
   ]
  },
  {
   "cell_type": "code",
   "execution_count": 56,
   "id": "710d33f1",
   "metadata": {},
   "outputs": [],
   "source": [
    "new_queue = QueueWithStackEn()"
   ]
  },
  {
   "cell_type": "code",
   "execution_count": 57,
   "id": "39b84707",
   "metadata": {},
   "outputs": [],
   "source": [
    "for i in range(7):\n",
    "    new_queue.enqueue(i)"
   ]
  },
  {
   "cell_type": "code",
   "execution_count": 58,
   "id": "a2bc0acb",
   "metadata": {},
   "outputs": [
    {
     "data": {
      "text/plain": [
       "[0, 1, 2, 3, 4, 5, 6]"
      ]
     },
     "execution_count": 58,
     "metadata": {},
     "output_type": "execute_result"
    }
   ],
   "source": [
    "new_queue._in"
   ]
  },
  {
   "cell_type": "code",
   "execution_count": 59,
   "id": "6a10f02b",
   "metadata": {},
   "outputs": [
    {
     "data": {
      "text/plain": [
       "0"
      ]
     },
     "execution_count": 59,
     "metadata": {},
     "output_type": "execute_result"
    }
   ],
   "source": [
    "new_queue.dequeue()"
   ]
  },
  {
   "cell_type": "code",
   "execution_count": 60,
   "id": "e6d7f742",
   "metadata": {},
   "outputs": [
    {
     "data": {
      "text/plain": [
       "[]"
      ]
     },
     "execution_count": 60,
     "metadata": {},
     "output_type": "execute_result"
    }
   ],
   "source": [
    "new_queue._in"
   ]
  },
  {
   "cell_type": "code",
   "execution_count": 61,
   "id": "eaa6279d",
   "metadata": {},
   "outputs": [
    {
     "data": {
      "text/plain": [
       "[6, 5, 4, 3, 2, 1]"
      ]
     },
     "execution_count": 61,
     "metadata": {},
     "output_type": "execute_result"
    }
   ],
   "source": [
    "new_queue._out"
   ]
  },
  {
   "cell_type": "code",
   "execution_count": 62,
   "id": "7737d073",
   "metadata": {},
   "outputs": [
    {
     "data": {
      "text/plain": [
       "6"
      ]
     },
     "execution_count": 62,
     "metadata": {},
     "output_type": "execute_result"
    }
   ],
   "source": [
    "new_queue.size()"
   ]
  },
  {
   "cell_type": "code",
   "execution_count": 63,
   "id": "4367092e",
   "metadata": {},
   "outputs": [],
   "source": [
    "for i in range(6):\n",
    "    new_queue.dequeue()"
   ]
  },
  {
   "cell_type": "code",
   "execution_count": 64,
   "id": "694ceceb",
   "metadata": {},
   "outputs": [
    {
     "data": {
      "text/plain": [
       "[]"
      ]
     },
     "execution_count": 64,
     "metadata": {},
     "output_type": "execute_result"
    }
   ],
   "source": [
    "new_queue._out"
   ]
  },
  {
   "cell_type": "code",
   "execution_count": 65,
   "id": "e8239351",
   "metadata": {},
   "outputs": [
    {
     "ename": "IndexError",
     "evalue": "queue is empty",
     "output_type": "error",
     "traceback": [
      "\u001b[0;31m---------------------------------------------------------------------------\u001b[0m",
      "\u001b[0;31mIndexError\u001b[0m                                Traceback (most recent call last)",
      "Cell \u001b[0;32mIn[65], line 1\u001b[0m\n\u001b[0;32m----> 1\u001b[0m new_queue\u001b[38;5;241m.\u001b[39mdequeue()\n",
      "Cell \u001b[0;32mIn[55], line 13\u001b[0m, in \u001b[0;36mQueueWithStackEn.dequeue\u001b[0;34m(self)\u001b[0m\n\u001b[1;32m     11\u001b[0m \u001b[38;5;28;01mdef\u001b[39;00m \u001b[38;5;21mdequeue\u001b[39m(\u001b[38;5;28mself\u001b[39m):\n\u001b[1;32m     12\u001b[0m     \u001b[38;5;28;01mif\u001b[39;00m \u001b[38;5;129;01mnot\u001b[39;00m \u001b[38;5;28mself\u001b[39m\u001b[38;5;241m.\u001b[39m_in \u001b[38;5;129;01mand\u001b[39;00m \u001b[38;5;129;01mnot\u001b[39;00m \u001b[38;5;28mself\u001b[39m\u001b[38;5;241m.\u001b[39m_out:\n\u001b[0;32m---> 13\u001b[0m         \u001b[38;5;28;01mraise\u001b[39;00m \u001b[38;5;167;01mIndexError\u001b[39;00m(\u001b[38;5;124m'\u001b[39m\u001b[38;5;124mqueue is empty\u001b[39m\u001b[38;5;124m'\u001b[39m)\n\u001b[1;32m     14\u001b[0m     \u001b[38;5;28;01melse\u001b[39;00m:\n\u001b[1;32m     15\u001b[0m         \u001b[38;5;28;01mif\u001b[39;00m \u001b[38;5;129;01mnot\u001b[39;00m \u001b[38;5;28mself\u001b[39m\u001b[38;5;241m.\u001b[39m_out:\n",
      "\u001b[0;31mIndexError\u001b[0m: queue is empty"
     ]
    }
   ],
   "source": [
    "new_queue.dequeue()"
   ]
  }
 ],
 "metadata": {
  "kernelspec": {
   "display_name": "Python 3 (ipykernel)",
   "language": "python",
   "name": "python3"
  },
  "language_info": {
   "codemirror_mode": {
    "name": "ipython",
    "version": 3
   },
   "file_extension": ".py",
   "mimetype": "text/x-python",
   "name": "python",
   "nbconvert_exporter": "python",
   "pygments_lexer": "ipython3",
   "version": "3.11.3"
  }
 },
 "nbformat": 4,
 "nbformat_minor": 5
}
