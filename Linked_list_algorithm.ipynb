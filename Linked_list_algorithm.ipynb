{
 "cells": [
  {
   "cell_type": "markdown",
   "id": "43e3cfee",
   "metadata": {},
   "source": [
    "## check class operation"
   ]
  },
  {
   "cell_type": "code",
   "execution_count": 1,
   "id": "64989a7b",
   "metadata": {},
   "outputs": [],
   "source": [
    "class some_class:\n",
    "    def __init__(self,something):\n",
    "        self.something = something\n",
    "\n",
    "    def some_function1(self):\n",
    "        print(self.something)\n",
    "\n",
    "    def some_function2(self):\n",
    "        return self.something"
   ]
  },
  {
   "cell_type": "code",
   "execution_count": 2,
   "id": "ba3fc74b",
   "metadata": {},
   "outputs": [],
   "source": [
    "me = some_class('me')"
   ]
  },
  {
   "cell_type": "code",
   "execution_count": 6,
   "id": "6951b083",
   "metadata": {},
   "outputs": [
    {
     "data": {
      "text/plain": [
       "<bound method some_class.some_function1 of <__main__.some_class object at 0x110752450>>"
      ]
     },
     "execution_count": 6,
     "metadata": {},
     "output_type": "execute_result"
    }
   ],
   "source": [
    "me.some_function1"
   ]
  },
  {
   "cell_type": "code",
   "execution_count": 10,
   "id": "5c3aa3c9",
   "metadata": {},
   "outputs": [
    {
     "name": "stdout",
     "output_type": "stream",
     "text": [
      "me\n"
     ]
    }
   ],
   "source": [
    "me.some_function1()"
   ]
  },
  {
   "cell_type": "code",
   "execution_count": 8,
   "id": "849d9e17",
   "metadata": {},
   "outputs": [
    {
     "data": {
      "text/plain": [
       "<bound method some_class.some_function2 of <__main__.some_class object at 0x110752450>>"
      ]
     },
     "execution_count": 8,
     "metadata": {},
     "output_type": "execute_result"
    }
   ],
   "source": [
    "me.some_function2"
   ]
  },
  {
   "cell_type": "code",
   "execution_count": 9,
   "id": "0c94e567",
   "metadata": {},
   "outputs": [
    {
     "data": {
      "text/plain": [
       "'me'"
      ]
     },
     "execution_count": 9,
     "metadata": {},
     "output_type": "execute_result"
    }
   ],
   "source": [
    "me.some_function2()"
   ]
  },
  {
   "cell_type": "markdown",
   "id": "a6eaa7e7",
   "metadata": {},
   "source": [
    "## Linked list"
   ]
  },
  {
   "cell_type": "code",
   "execution_count": 12,
   "id": "7516da01",
   "metadata": {},
   "outputs": [],
   "source": [
    "class Node:\n",
    "    def __init__(self, data):\n",
    "        self.data = data\n",
    "        self.next = None"
   ]
  },
  {
   "cell_type": "code",
   "execution_count": 33,
   "id": "62aed3d7",
   "metadata": {},
   "outputs": [],
   "source": [
    "class LinkedList:\n",
    "    def __init__(self, head=None):\n",
    "        self.head = head\n",
    "        \n",
    "    def append(self, data):\n",
    "        new_node = Node(data)\n",
    "        if not self.head:\n",
    "            self.head = new_node\n",
    "            return\n",
    "        last_node = self.head\n",
    "        while last_node.next:\n",
    "               last_node = last_node.next\n",
    "        last_node.next = new_node\n",
    "        \n",
    "        \n",
    "    def print_list(self):\n",
    "        current_node = self.head\n",
    "        while current_node:\n",
    "            print(current_node.data)\n",
    "            current_node = current_node.next\n",
    "            \n",
    "            \n",
    "    def remove(self, target):\n",
    "        if self.head.data == target:\n",
    "            self.head = self.head.next\n",
    "            return\n",
    "        current = self.head\n",
    "        previous = None\n",
    "        while current:\n",
    "            if current.data == target:\n",
    "                previous.next = current.next\n",
    "            previous = current\n",
    "            current = current.next\n",
    "            \n",
    "            \n",
    "    def revese(self):\n",
    "        current = self.head\n",
    "        previous = None\n",
    "        while current:\n",
    "            next_ = current.next\n",
    "            current.next = previous\n",
    "            previous = current\n",
    "            current = next_\n",
    "        self.head = previous"
   ]
  },
  {
   "cell_type": "code",
   "execution_count": 34,
   "id": "be0cba1e",
   "metadata": {},
   "outputs": [],
   "source": [
    "ll = LinkedList()"
   ]
  },
  {
   "cell_type": "code",
   "execution_count": 35,
   "id": "b281488d",
   "metadata": {},
   "outputs": [
    {
     "name": "stdout",
     "output_type": "stream",
     "text": [
      "10\n",
      "20\n",
      "30\n",
      "40\n",
      "50\n"
     ]
    }
   ],
   "source": [
    "ll.append(10)\n",
    "ll.append(20)\n",
    "ll.append(30)\n",
    "ll.append(40)\n",
    "ll.append(50)\n",
    "ll.print_list()"
   ]
  },
  {
   "cell_type": "code",
   "execution_count": 36,
   "id": "e2abd097",
   "metadata": {},
   "outputs": [],
   "source": [
    "def detect_cycle(linked_list):\n",
    "    slow = linked_list.head\n",
    "    fast = linked_list.head\n",
    "    \n",
    "    #'and fast.next'はlinked_list要素が1つだけの時に対応するため\n",
    "    while slow and fast and fast.next:\n",
    "        slow = slow.next\n",
    "        fast = fast.next.next\n",
    "        \n",
    "        if slow == fast:\n",
    "            return True\n",
    "    \n",
    "    return False"
   ]
  },
  {
   "cell_type": "code",
   "execution_count": 38,
   "id": "fd00398f",
   "metadata": {},
   "outputs": [],
   "source": [
    "ll.head.next.next.next = ll.head.next"
   ]
  },
  {
   "cell_type": "code",
   "execution_count": 39,
   "id": "c7812e28",
   "metadata": {},
   "outputs": [
    {
     "data": {
      "text/plain": [
       "True"
      ]
     },
     "execution_count": 39,
     "metadata": {},
     "output_type": "execute_result"
    }
   ],
   "source": [
    "detect_cycle(ll)"
   ]
  }
 ],
 "metadata": {
  "kernelspec": {
   "display_name": "Python 3 (ipykernel)",
   "language": "python",
   "name": "python3"
  },
  "language_info": {
   "codemirror_mode": {
    "name": "ipython",
    "version": 3
   },
   "file_extension": ".py",
   "mimetype": "text/x-python",
   "name": "python",
   "nbconvert_exporter": "python",
   "pygments_lexer": "ipython3",
   "version": "3.11.3"
  }
 },
 "nbformat": 4,
 "nbformat_minor": 5
}
