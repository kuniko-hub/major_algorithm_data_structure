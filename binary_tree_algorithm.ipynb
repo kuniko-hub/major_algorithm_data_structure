{
 "cells": [
  {
   "cell_type": "markdown",
   "id": "a80fd022",
   "metadata": {},
   "source": [
    "##  Let's implement a binary tree data structure "
   ]
  },
  {
   "cell_type": "code",
   "execution_count": 1,
   "id": "7e13a615",
   "metadata": {},
   "outputs": [],
   "source": [
    "class BinaryTree:\n",
    "    def __init__(self, value):\n",
    "        self.value = value\n",
    "        self.left_child = None\n",
    "        self.right_child = None\n",
    "        \n",
    "        \n",
    "    def insert_left(self, value):\n",
    "        if self.left_child is None:\n",
    "            self.left_child = BinaryTree(value)\n",
    "        else:\n",
    "            bin_tree = BinaryTree(value)\n",
    "            bin_tree.left_child = self.left_child\n",
    "            self.left_child = bin_tree\n",
    "            \n",
    "            \n",
    "    def insert_right(self, value):\n",
    "        if self.right_child is None:\n",
    "            self.right_child = BinaryTree(value)\n",
    "        else:\n",
    "            bin_tree = BinaryTree(value)\n",
    "            bin_tree.right_child = self.right_child\n",
    "            self.right_child = bin_tree.right_child"
   ]
  },
  {
   "cell_type": "markdown",
   "id": "a6de98ad",
   "metadata": {},
   "source": [
    "### Check if this code works properly"
   ]
  },
  {
   "cell_type": "code",
   "execution_count": 11,
   "id": "2ec08818",
   "metadata": {},
   "outputs": [],
   "source": [
    "tree = BinaryTree(1)"
   ]
  },
  {
   "cell_type": "code",
   "execution_count": 12,
   "id": "02f28d81",
   "metadata": {},
   "outputs": [],
   "source": [
    "tree.insert_left(3)\n",
    "tree.insert_right(5)\n",
    "tree.insert_left(4)\n",
    "tree.left_child.insert_right(6)\n",
    "tree.left_child.insert_left(7)"
   ]
  },
  {
   "cell_type": "code",
   "execution_count": 13,
   "id": "58ca8504",
   "metadata": {},
   "outputs": [
    {
     "data": {
      "text/plain": [
       "1"
      ]
     },
     "execution_count": 13,
     "metadata": {},
     "output_type": "execute_result"
    }
   ],
   "source": [
    "tree.value"
   ]
  },
  {
   "cell_type": "code",
   "execution_count": 14,
   "id": "e7545769",
   "metadata": {},
   "outputs": [
    {
     "data": {
      "text/plain": [
       "4"
      ]
     },
     "execution_count": 14,
     "metadata": {},
     "output_type": "execute_result"
    }
   ],
   "source": [
    "tree.left_child.value"
   ]
  },
  {
   "cell_type": "code",
   "execution_count": 19,
   "id": "734c30c9",
   "metadata": {},
   "outputs": [
    {
     "data": {
      "text/plain": [
       "6"
      ]
     },
     "execution_count": 19,
     "metadata": {},
     "output_type": "execute_result"
    }
   ],
   "source": [
    "tree.left_child.right_child.value"
   ]
  },
  {
   "cell_type": "code",
   "execution_count": 15,
   "id": "98f8c62f",
   "metadata": {},
   "outputs": [
    {
     "data": {
      "text/plain": [
       "7"
      ]
     },
     "execution_count": 15,
     "metadata": {},
     "output_type": "execute_result"
    }
   ],
   "source": [
    "tree.left_child.left_child.value"
   ]
  },
  {
   "cell_type": "code",
   "execution_count": 16,
   "id": "ee23eebe",
   "metadata": {},
   "outputs": [
    {
     "data": {
      "text/plain": [
       "3"
      ]
     },
     "execution_count": 16,
     "metadata": {},
     "output_type": "execute_result"
    }
   ],
   "source": [
    "tree.left_child.left_child.left_child.value"
   ]
  },
  {
   "cell_type": "code",
   "execution_count": 17,
   "id": "7d604b10",
   "metadata": {},
   "outputs": [
    {
     "data": {
      "text/plain": [
       "1"
      ]
     },
     "execution_count": 17,
     "metadata": {},
     "output_type": "execute_result"
    }
   ],
   "source": [
    "tree.value"
   ]
  },
  {
   "cell_type": "code",
   "execution_count": 18,
   "id": "0345d5b1",
   "metadata": {},
   "outputs": [
    {
     "data": {
      "text/plain": [
       "5"
      ]
     },
     "execution_count": 18,
     "metadata": {},
     "output_type": "execute_result"
    }
   ],
   "source": [
    "tree.right_child.value"
   ]
  }
 ],
 "metadata": {
  "kernelspec": {
   "display_name": "Python 3 (ipykernel)",
   "language": "python",
   "name": "python3"
  },
  "language_info": {
   "codemirror_mode": {
    "name": "ipython",
    "version": 3
   },
   "file_extension": ".py",
   "mimetype": "text/x-python",
   "name": "python",
   "nbconvert_exporter": "python",
   "pygments_lexer": "ipython3",
   "version": "3.11.3"
  }
 },
 "nbformat": 4,
 "nbformat_minor": 5
}
