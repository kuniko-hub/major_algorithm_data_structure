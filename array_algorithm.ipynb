{
 "cells": [
  {
   "cell_type": "markdown",
   "id": "a63bb14d",
   "metadata": {},
   "source": [
    "## Move zero method"
   ]
  },
  {
   "cell_type": "code",
   "execution_count": 6,
   "id": "62fb5b97",
   "metadata": {},
   "outputs": [
    {
     "data": {
      "text/plain": [
       "2"
      ]
     },
     "execution_count": 6,
     "metadata": {},
     "output_type": "execute_result"
    }
   ],
   "source": [
    "main_list.count(0)"
   ]
  },
  {
   "cell_type": "code",
   "execution_count": 9,
   "id": "a67c1bf7",
   "metadata": {},
   "outputs": [
    {
     "name": "stdout",
     "output_type": "stream",
     "text": [
      "Hello\n",
      "Hello\n"
     ]
    }
   ],
   "source": [
    "for i in range(2):\n",
    "    print('Hello')"
   ]
  },
  {
   "cell_type": "code",
   "execution_count": 14,
   "id": "6c1facf5",
   "metadata": {},
   "outputs": [],
   "source": [
    "def sort_zero(ob_list):\n",
    "    \n",
    "    num_zero = ob_list.count(0)\n",
    "    zeros = [0]*num_zero\n",
    "    \n",
    "    ob_list = [i for i in ob_list if i != 0]\n",
    "    ob_list = ob_list + zeros\n",
    "    \n",
    "    return ob_list"
   ]
  },
  {
   "cell_type": "code",
   "execution_count": 15,
   "id": "18808f68",
   "metadata": {},
   "outputs": [
    {
     "data": {
      "text/plain": [
       "[8, 3, 12, 0, 0]"
      ]
     },
     "execution_count": 15,
     "metadata": {},
     "output_type": "execute_result"
    }
   ],
   "source": [
    "sort_zero(main_list)"
   ]
  },
  {
   "cell_type": "code",
   "execution_count": 19,
   "id": "ec779307",
   "metadata": {},
   "outputs": [],
   "source": [
    "a_list = [8,0,3,4,0,12]"
   ]
  },
  {
   "cell_type": "code",
   "execution_count": 21,
   "id": "573a026f",
   "metadata": {},
   "outputs": [],
   "source": [
    "def move_zeros(a_list):\n",
    "    zero_index = 0\n",
    "    \n",
    "    for index, n in enumerate(a_list):\n",
    "        if n != 0:\n",
    "            a_list[zero_index] = n\n",
    "            if zero_index != index:\n",
    "                a_list[index] = 0\n",
    "            zero_index += 1\n",
    "    return a_list"
   ]
  },
  {
   "cell_type": "code",
   "execution_count": 22,
   "id": "cc44595d",
   "metadata": {},
   "outputs": [
    {
     "data": {
      "text/plain": [
       "[8, 3, 4, 12, 0, 0]"
      ]
     },
     "execution_count": 22,
     "metadata": {},
     "output_type": "execute_result"
    }
   ],
   "source": [
    "move_zeros(a_list)"
   ]
  },
  {
   "cell_type": "code",
   "execution_count": 2,
   "id": "0299c9c6",
   "metadata": {},
   "outputs": [],
   "source": [
    "list1 = [1,2,3]"
   ]
  },
  {
   "cell_type": "code",
   "execution_count": 3,
   "id": "42b3ba3d",
   "metadata": {},
   "outputs": [],
   "source": [
    "list2 = [4,5,6]"
   ]
  },
  {
   "cell_type": "code",
   "execution_count": 4,
   "id": "17c9fbe3",
   "metadata": {},
   "outputs": [],
   "source": [
    "list3 = list1 + list2"
   ]
  },
  {
   "cell_type": "code",
   "execution_count": 5,
   "id": "98810206",
   "metadata": {},
   "outputs": [
    {
     "data": {
      "text/plain": [
       "[1, 2, 3, 4, 5, 6]"
      ]
     },
     "execution_count": 5,
     "metadata": {},
     "output_type": "execute_result"
    }
   ],
   "source": [
    "list3\n"
   ]
  },
  {
   "cell_type": "markdown",
   "id": "dd5ad17f",
   "metadata": {},
   "source": [
    "## Merge two lists"
   ]
  },
  {
   "cell_type": "code",
   "execution_count": 23,
   "id": "435848d0",
   "metadata": {},
   "outputs": [],
   "source": [
    "movie_lists = ['Inter Staler', 'Inception', 'Prestage', 'Insomnia']"
   ]
  },
  {
   "cell_type": "code",
   "execution_count": 24,
   "id": "7b64c00d",
   "metadata": {},
   "outputs": [],
   "source": [
    "rating_lists = [1,10,10,8]"
   ]
  },
  {
   "cell_type": "code",
   "execution_count": 29,
   "id": "d03e915c",
   "metadata": {},
   "outputs": [],
   "source": [
    "def merge_list(movie,rat):\n",
    "    merge_list = []\n",
    "    \n",
    "    for i in range(len(movie)):\n",
    "        merge_tuple = (movie[i],rat[i])\n",
    "        merge_list.append(merge_tuple)\n",
    "\n",
    "    return merge_list"
   ]
  },
  {
   "cell_type": "code",
   "execution_count": 30,
   "id": "8b1074ea",
   "metadata": {},
   "outputs": [
    {
     "data": {
      "text/plain": [
       "[('Inter Staler', 1), ('Inception', 10), ('Prestage', 10), ('Insomnia', 8)]"
      ]
     },
     "execution_count": 30,
     "metadata": {},
     "output_type": "execute_result"
    }
   ],
   "source": [
    "merge_list(movie_lists,rating_lists)"
   ]
  },
  {
   "cell_type": "code",
   "execution_count": 31,
   "id": "00ce858a",
   "metadata": {},
   "outputs": [
    {
     "data": {
      "text/plain": [
       "[('Inter Staler', 1), ('Inception', 10), ('Prestage', 10), ('Insomnia', 8)]"
      ]
     },
     "execution_count": 31,
     "metadata": {},
     "output_type": "execute_result"
    }
   ],
   "source": [
    "list(zip(movie_lists,rating_lists))"
   ]
  },
  {
   "cell_type": "markdown",
   "id": "268a1c8b",
   "metadata": {},
   "source": [
    "## Search duplicated items"
   ]
  },
  {
   "cell_type": "code",
   "execution_count": 36,
   "id": "0f1a92d6",
   "metadata": {},
   "outputs": [],
   "source": [
    "fruits_1 = ['banana', 'grape', 'apple', 'lemon']\n",
    "fruits_2 = ['grape', 'orange', 'mandeline', 'banana']\n",
    "fruits_3 = ['banana', 'grape', 'banana', 'apple', 'lemon','apple']"
   ]
  },
  {
   "cell_type": "code",
   "execution_count": 33,
   "id": "d3ae0e2e",
   "metadata": {},
   "outputs": [
    {
     "data": {
      "text/plain": [
       "{'apple', 'banana', 'grape', 'lemon', 'mandeline', 'orange'}"
      ]
     },
     "execution_count": 33,
     "metadata": {},
     "output_type": "execute_result"
    }
   ],
   "source": [
    "set(fruits_1+fruits_2)"
   ]
  },
  {
   "cell_type": "code",
   "execution_count": 41,
   "id": "a24af533",
   "metadata": {},
   "outputs": [],
   "source": [
    "set_1 = set(fruits_1)\n",
    "set_2 = set(fruits_2)"
   ]
  },
  {
   "cell_type": "code",
   "execution_count": 42,
   "id": "ae9c8c00",
   "metadata": {},
   "outputs": [
    {
     "data": {
      "text/plain": [
       "{'banana', 'grape'}"
      ]
     },
     "execution_count": 42,
     "metadata": {},
     "output_type": "execute_result"
    }
   ],
   "source": [
    "set_1.intersection(set_2)"
   ]
  },
  {
   "cell_type": "code",
   "execution_count": 35,
   "id": "644c74f0",
   "metadata": {},
   "outputs": [
    {
     "data": {
      "text/plain": [
       "['grape', 'banana']"
      ]
     },
     "execution_count": 35,
     "metadata": {},
     "output_type": "execute_result"
    }
   ],
   "source": [
    "[item for item in fruits_2 if item in fruits_1]"
   ]
  },
  {
   "cell_type": "code",
   "execution_count": 39,
   "id": "2f9485a3",
   "metadata": {},
   "outputs": [],
   "source": [
    "def return_deps(an_iterable):\n",
    "    deps_list = []\n",
    "    a_set = set()\n",
    "    \n",
    "    for item in an_iterable:\n",
    "        a_len = len(a_set)\n",
    "        a_set.add(item)\n",
    "        \n",
    "        if a_len == len(a_set):\n",
    "            deps_list.append(item)\n",
    "            \n",
    "    return deps_list"
   ]
  },
  {
   "cell_type": "code",
   "execution_count": 40,
   "id": "f3250a5d",
   "metadata": {},
   "outputs": [
    {
     "data": {
      "text/plain": [
       "['banana', 'apple']"
      ]
     },
     "execution_count": 40,
     "metadata": {},
     "output_type": "execute_result"
    }
   ],
   "source": [
    "return_deps(fruits_3)"
   ]
  },
  {
   "cell_type": "markdown",
   "id": "7901c886",
   "metadata": {},
   "source": [
    "## sort int "
   ]
  }
 ],
 "metadata": {
  "kernelspec": {
   "display_name": "Python 3 (ipykernel)",
   "language": "python",
   "name": "python3"
  },
  "language_info": {
   "codemirror_mode": {
    "name": "ipython",
    "version": 3
   },
   "file_extension": ".py",
   "mimetype": "text/x-python",
   "name": "python",
   "nbconvert_exporter": "python",
   "pygments_lexer": "ipython3",
   "version": "3.11.3"
  }
 },
 "nbformat": 4,
 "nbformat_minor": 5
}
