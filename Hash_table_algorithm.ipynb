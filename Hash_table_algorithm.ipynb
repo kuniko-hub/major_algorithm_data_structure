{
 "cells": [
  {
   "cell_type": "markdown",
   "id": "6298a465",
   "metadata": {},
   "source": [
    "# Let's create algorithms using a hash table data structure"
   ]
  },
  {
   "cell_type": "markdown",
   "id": "bf836c82",
   "metadata": {},
   "source": [
    "## an algorithm for counting each letter in words"
   ]
  },
  {
   "cell_type": "code",
   "execution_count": 7,
   "id": "c87e63d1",
   "metadata": {},
   "outputs": [],
   "source": [
    "def count(_string):\n",
    "    _dict = {}\n",
    "    \n",
    "    for letter in _string:\n",
    "        if letter in _dict:\n",
    "            _dict[letter] += 1 \n",
    "        else:\n",
    "            _dict[letter] = 1\n",
    "            \n",
    "    return _dict"
   ]
  },
  {
   "cell_type": "code",
   "execution_count": 8,
   "id": "45bb20ce",
   "metadata": {},
   "outputs": [],
   "source": [
    "a_string = 'Happy'"
   ]
  },
  {
   "cell_type": "code",
   "execution_count": 9,
   "id": "9ae3f52c",
   "metadata": {},
   "outputs": [
    {
     "data": {
      "text/plain": [
       "{'H': 1, 'a': 1, 'p': 2, 'y': 1}"
      ]
     },
     "execution_count": 9,
     "metadata": {},
     "output_type": "execute_result"
    }
   ],
   "source": [
    "count(a_string)"
   ]
  },
  {
   "cell_type": "markdown",
   "id": "d641101d",
   "metadata": {},
   "source": [
    "## Two Sum\n",
    "### Given an array of integers nums and an integer target, return indices of the two numbers such that they add up to target."
   ]
  },
  {
   "cell_type": "code",
   "execution_count": 11,
   "id": "f98c5fd6",
   "metadata": {},
   "outputs": [],
   "source": [
    "def two_sum(_list, target):\n",
    "    _dict = {}\n",
    "    \n",
    "    for index, num in enumerate(_list):\n",
    "        rem = target - num\n",
    "        if rem in _dict:\n",
    "            return (_dict[rem], index)\n",
    "        else:\n",
    "            _dict[num] = index"
   ]
  },
  {
   "cell_type": "code",
   "execution_count": 12,
   "id": "3c63e477",
   "metadata": {},
   "outputs": [],
   "source": [
    "_list = [1,-1,3,5,2,6]"
   ]
  },
  {
   "cell_type": "code",
   "execution_count": 13,
   "id": "8ad382d5",
   "metadata": {},
   "outputs": [
    {
     "data": {
      "text/plain": [
       "(0, 3)"
      ]
     },
     "execution_count": 13,
     "metadata": {},
     "output_type": "execute_result"
    }
   ],
   "source": [
    "two_sum(_list, 6)"
   ]
  },
  {
   "cell_type": "markdown",
   "id": "e4e8606c",
   "metadata": {},
   "source": [
    "### This algorithm requires O(n) time, a better solution than brute force"
   ]
  },
  {
   "cell_type": "markdown",
   "id": "8f7a1282",
   "metadata": {},
   "source": [
    "  "
   ]
  },
  {
   "cell_type": "markdown",
   "id": "9f2d3f7b",
   "metadata": {},
   "source": [
    "## An algorithm for deleting a word that appears more than a second time"
   ]
  },
  {
   "cell_type": "code",
   "execution_count": 35,
   "id": "e92c79d0",
   "metadata": {},
   "outputs": [],
   "source": [
    "def word_delete(_string):\n",
    "    _dict = {}\n",
    "    item_string = _string.split()\n",
    "    \n",
    "    for item in item_string:\n",
    "        if item not in _dict:\n",
    "            _dict[item] = 1 \n",
    "            \n",
    "    my_string = list(_dict.keys())\n",
    "    my_string = ' '.join(my_string)\n",
    "    return my_string"
   ]
  },
  {
   "cell_type": "code",
   "execution_count": 16,
   "id": "1347a9fd",
   "metadata": {},
   "outputs": [],
   "source": [
    "my_string = 'I like fruits that my mother does not like'"
   ]
  },
  {
   "cell_type": "code",
   "execution_count": 24,
   "id": "162cce0e",
   "metadata": {},
   "outputs": [
    {
     "data": {
      "text/plain": [
       "['I', 'like', 'fruits', 'that', 'my', 'mother', 'does', 'not', 'like']"
      ]
     },
     "execution_count": 24,
     "metadata": {},
     "output_type": "execute_result"
    }
   ],
   "source": [
    "my_string.split()"
   ]
  },
  {
   "cell_type": "code",
   "execution_count": 36,
   "id": "b61473f2",
   "metadata": {},
   "outputs": [
    {
     "data": {
      "text/plain": [
       "'I like fruits that my mother does not'"
      ]
     },
     "execution_count": 36,
     "metadata": {},
     "output_type": "execute_result"
    }
   ],
   "source": [
    "word_delete(my_string)"
   ]
  }
 ],
 "metadata": {
  "kernelspec": {
   "display_name": "Python 3 (ipykernel)",
   "language": "python",
   "name": "python3"
  },
  "language_info": {
   "codemirror_mode": {
    "name": "ipython",
    "version": 3
   },
   "file_extension": ".py",
   "mimetype": "text/x-python",
   "name": "python",
   "nbconvert_exporter": "python",
   "pygments_lexer": "ipython3",
   "version": "3.11.3"
  }
 },
 "nbformat": 4,
 "nbformat_minor": 5
}
